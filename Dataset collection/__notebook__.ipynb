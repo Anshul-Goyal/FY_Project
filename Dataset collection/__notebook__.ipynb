{
 "metadata": {
  "_change_revision": 302,
  "_is_fork": false,
  "kernelspec": {
   "display_name": "Python 3",
   "language": "python",
   "name": "python3"
  },
  "language_info": {
   "codemirror_mode": {
    "name": "ipython",
    "version": 3
   },
   "file_extension": ".py",
   "mimetype": "text/x-python",
   "name": "python",
   "nbconvert_exporter": "python",
   "pygments_lexer": "ipython3",
   "version": "3.5.2"
  },
  "name": ""
 },
 "nbformat": 3,
 "nbformat_minor": 0,
 "worksheets": [
  {
   "cells": [
    {
     "cell_type": "markdown",
     "metadata": {
      "_cell_guid": "224f05d5-03d7-5622-804c-2ec2fbbdba24"
     },
     "source": [
      "#**Hey Kagglers, this notebook will go over a couple of basic Natural Language Processing techniques using the [scikit-learn](http://scikit-learn.org/stable/) library. Special thanks to [Aaron7sun](https://www.kaggle.com/aaron7sun) for providing the [dataset](https://www.kaggle.com/aaron7sun/stocknews) and \"assignment\" for us to do!**  \n",
      "#Thanks for reading and feel free to leave feedback. I'd like to make more tutorial notebooks like this, so let me know if you think there is anything I could improve."
     ]
    },
    {
     "cell_type": "markdown",
     "metadata": {
      "_cell_guid": "0c26a06e-66cd-e955-edd9-a0645bf64795"
     },
     "source": [
      "----------"
     ]
    },
    {
     "cell_type": "heading",
     "level": 1,
     "metadata": {
      "_cell_guid": "097e4b27-d3d4-72bf-954d-ca31aa060438"
     },
     "source": [
      "Notebook Prep"
     ]
    },
    {
     "cell_type": "markdown",
     "metadata": {
      "_cell_guid": "6dbbf81e-cab9-5824-9552-72d3c8e20c51"
     },
     "source": [
      "First things first, let's import the libraries we'll be using.  "
     ]
    },
    {
     "cell_type": "code",
     "collapsed": false,
     "input": [
      "import pandas as pd\n",
      "from sklearn.feature_extraction.text import CountVectorizer\n",
      "from sklearn.linear_model import LogisticRegression"
     ],
     "language": "python",
     "metadata": {
      "_cell_guid": "70ceca1b-8563-1894-1334-80ffb120f778"
     },
     "outputs": [],
     "prompt_number": 1
    },
    {
     "cell_type": "markdown",
     "metadata": {
      "_cell_guid": "dcf16f8f-8c77-e21f-7ad9-9428dfb1e0e6"
     },
     "source": [
      "[Pandas](http://pandas.pydata.org/) will make our data easy to look at and work with.  \n",
      "[CountVectorizer](http://scikit-learn.org/stable/modules/generated/sklearn.feature_extraction.text.CountVectorizer.html), part of scikit-learn, will take care of our NLP tasks.  \n",
      "[LogisticRegression](http://scikit-learn.org/stable/modules/generated/sklearn.linear_model.LogisticRegression.html), also part of scikit-learn, will train and test our predictive models."
     ]
    },
    {
     "cell_type": "markdown",
     "metadata": {
      "_cell_guid": "6ac9d751-e8f5-8940-ac71-426f10e0bd04"
     },
     "source": [
      "----------"
     ]
    },
    {
     "cell_type": "heading",
     "level": 1,
     "metadata": {
      "_cell_guid": "f9e5522e-37ef-b384-11e9-42f9895d423c"
     },
     "source": [
      "Data Import"
     ]
    },
    {
     "cell_type": "markdown",
     "metadata": {
      "_cell_guid": "9add28d0-c500-943e-64a8-48c8a131b6d0"
     },
     "source": [
      "Now, let's [read](http://pandas.pydata.org/pandas-docs/stable/generated/pandas.read_csv.html) in the data with Pandas.  \n",
      "If you're working in something other than a Kaggle notebook, be sure to change the file location.  \n",
      "For this tutorial, we're just going to use the combined dataset that Aaron prepared for us, but you're welcome to import the other two CSV files if you want to combine them in a different way."
     ]
    },
    {
     "cell_type": "code",
     "collapsed": false,
     "input": [
      "data = pd.read_csv('../input/Combined_News_DJIA.csv')"
     ],
     "language": "python",
     "metadata": {
      "_cell_guid": "6da1c746-e849-fa5b-b0b6-4137586b533e"
     },
     "outputs": [],
     "prompt_number": 2
    },
    {
     "cell_type": "markdown",
     "metadata": {
      "_cell_guid": "228f34e9-9628-bddc-a78a-24adf933644b"
     },
     "source": [
      "Next, let's take a look at the data with the [head](http://pandas.pydata.org/pandas-docs/stable/generated/pandas.DataFrame.head.html) method."
     ]
    },
    {
     "cell_type": "code",
     "collapsed": false,
     "input": [
      "data.head()"
     ],
     "language": "python",
     "metadata": {
      "_cell_guid": "01834ef5-43f9-7456-7a7d-c3194dd8f71a"
     },
     "outputs": [
      {
       "html": [
        "<div>\n",
        "<table border=\"1\" class=\"dataframe\">\n",
        "  <thead>\n",
        "    <tr style=\"text-align: right;\">\n",
        "      <th></th>\n",
        "      <th>Date</th>\n",
        "      <th>Label</th>\n",
        "      <th>Top1</th>\n",
        "      <th>Top2</th>\n",
        "      <th>Top3</th>\n",
        "      <th>Top4</th>\n",
        "      <th>Top5</th>\n",
        "      <th>Top6</th>\n",
        "      <th>Top7</th>\n",
        "      <th>Top8</th>\n",
        "      <th>...</th>\n",
        "      <th>Top16</th>\n",
        "      <th>Top17</th>\n",
        "      <th>Top18</th>\n",
        "      <th>Top19</th>\n",
        "      <th>Top20</th>\n",
        "      <th>Top21</th>\n",
        "      <th>Top22</th>\n",
        "      <th>Top23</th>\n",
        "      <th>Top24</th>\n",
        "      <th>Top25</th>\n",
        "    </tr>\n",
        "  </thead>\n",
        "  <tbody>\n",
        "    <tr>\n",
        "      <th>0</th>\n",
        "      <td>2008-08-08</td>\n",
        "      <td>0</td>\n",
        "      <td>b\"Georgia 'downs two Russian warplanes' as cou...</td>\n",
        "      <td>b'BREAKING: Musharraf to be impeached.'</td>\n",
        "      <td>b'Russia Today: Columns of troops roll into So...</td>\n",
        "      <td>b'Russian tanks are moving towards the capital...</td>\n",
        "      <td>b\"Afghan children raped with 'impunity,' U.N. ...</td>\n",
        "      <td>b'150 Russian tanks have entered South Ossetia...</td>\n",
        "      <td>b\"Breaking: Georgia invades South Ossetia, Rus...</td>\n",
        "      <td>b\"The 'enemy combatent' trials are nothing but...</td>\n",
        "      <td>...</td>\n",
        "      <td>b'Georgia Invades South Ossetia - if Russia ge...</td>\n",
        "      <td>b'Al-Qaeda Faces Islamist Backlash'</td>\n",
        "      <td>b'Condoleezza Rice: \"The US would not act to p...</td>\n",
        "      <td>b'This is a busy day:  The European Union has ...</td>\n",
        "      <td>b\"Georgia will withdraw 1,000 soldiers from Ir...</td>\n",
        "      <td>b'Why the Pentagon Thinks Attacking Iran is a ...</td>\n",
        "      <td>b'Caucasus in crisis: Georgia invades South Os...</td>\n",
        "      <td>b'Indian shoe manufactory  - And again in a se...</td>\n",
        "      <td>b'Visitors Suffering from Mental Illnesses Ban...</td>\n",
        "      <td>b\"No Help for Mexico's Kidnapping Surge\"</td>\n",
        "    </tr>\n",
        "    <tr>\n",
        "      <th>1</th>\n",
        "      <td>2008-08-11</td>\n",
        "      <td>1</td>\n",
        "      <td>b'Why wont America and Nato help us? If they w...</td>\n",
        "      <td>b'Bush puts foot down on Georgian conflict'</td>\n",
        "      <td>b\"Jewish Georgian minister: Thanks to Israeli ...</td>\n",
        "      <td>b'Georgian army flees in disarray as Russians ...</td>\n",
        "      <td>b\"Olympic opening ceremony fireworks 'faked'\"</td>\n",
        "      <td>b'What were the Mossad with fraudulent New Zea...</td>\n",
        "      <td>b'Russia angered by Israeli military sale to G...</td>\n",
        "      <td>b'An American citizen living in S.Ossetia blam...</td>\n",
        "      <td>...</td>\n",
        "      <td>b'Israel and the US behind the Georgian aggres...</td>\n",
        "      <td>b'\"Do not believe TV, neither Russian nor Geor...</td>\n",
        "      <td>b'Riots are still going on in Montreal (Canada...</td>\n",
        "      <td>b'China to overtake US as largest manufacturer'</td>\n",
        "      <td>b'War in South Ossetia [PICS]'</td>\n",
        "      <td>b'Israeli Physicians Group Condemns State Tort...</td>\n",
        "      <td>b' Russia has just beaten the United States ov...</td>\n",
        "      <td>b'Perhaps *the* question about the Georgia - R...</td>\n",
        "      <td>b'Russia is so much better at war'</td>\n",
        "      <td>b\"So this is what it's come to: trading sex fo...</td>\n",
        "    </tr>\n",
        "    <tr>\n",
        "      <th>2</th>\n",
        "      <td>2008-08-12</td>\n",
        "      <td>0</td>\n",
        "      <td>b'Remember that adorable 9-year-old who sang a...</td>\n",
        "      <td>b\"Russia 'ends Georgia operation'\"</td>\n",
        "      <td>b'\"If we had no sexual harassment we would hav...</td>\n",
        "      <td>b\"Al-Qa'eda is losing support in Iraq because ...</td>\n",
        "      <td>b'Ceasefire in Georgia: Putin Outmaneuvers the...</td>\n",
        "      <td>b'Why Microsoft and Intel tried to kill the XO...</td>\n",
        "      <td>b'Stratfor: The Russo-Georgian War and the Bal...</td>\n",
        "      <td>b\"I'm Trying to Get a Sense of This Whole Geor...</td>\n",
        "      <td>...</td>\n",
        "      <td>b'U.S. troops still in Georgia (did you know t...</td>\n",
        "      <td>b'Why Russias response to Georgia was right'</td>\n",
        "      <td>b'Gorbachev accuses U.S. of making a \"serious ...</td>\n",
        "      <td>b'Russia, Georgia, and NATO: Cold War Two'</td>\n",
        "      <td>b'Remember that adorable 62-year-old who led y...</td>\n",
        "      <td>b'War in Georgia: The Israeli connection'</td>\n",
        "      <td>b'All signs point to the US encouraging Georgi...</td>\n",
        "      <td>b'Christopher King argues that the US and NATO...</td>\n",
        "      <td>b'America: The New Mexico?'</td>\n",
        "      <td>b\"BBC NEWS | Asia-Pacific | Extinction 'by man...</td>\n",
        "    </tr>\n",
        "    <tr>\n",
        "      <th>3</th>\n",
        "      <td>2008-08-13</td>\n",
        "      <td>0</td>\n",
        "      <td>b' U.S. refuses Israel weapons to attack Iran:...</td>\n",
        "      <td>b\"When the president ordered to attack Tskhinv...</td>\n",
        "      <td>b' Israel clears troops who killed Reuters cam...</td>\n",
        "      <td>b'Britain\\'s policy of being tough on drugs is...</td>\n",
        "      <td>b'Body of 14 year old found in trunk; Latest (...</td>\n",
        "      <td>b'China has moved 10 *million* quake survivors...</td>\n",
        "      <td>b\"Bush announces Operation Get All Up In Russi...</td>\n",
        "      <td>b'Russian forces sink Georgian ships '</td>\n",
        "      <td>...</td>\n",
        "      <td>b'Elephants extinct by 2020?'</td>\n",
        "      <td>b'US humanitarian missions soon in Georgia - i...</td>\n",
        "      <td>b\"Georgia's DDOS came from US sources\"</td>\n",
        "      <td>b'Russian convoy heads into Georgia, violating...</td>\n",
        "      <td>b'Israeli defence minister: US against strike ...</td>\n",
        "      <td>b'Gorbachev: We Had No Choice'</td>\n",
        "      <td>b'Witness: Russian forces head towards Tbilisi...</td>\n",
        "      <td>b' Quarter of Russians blame U.S. for conflict...</td>\n",
        "      <td>b'Georgian president  says US military will ta...</td>\n",
        "      <td>b'2006: Nobel laureate Aleksander Solzhenitsyn...</td>\n",
        "    </tr>\n",
        "    <tr>\n",
        "      <th>4</th>\n",
        "      <td>2008-08-14</td>\n",
        "      <td>1</td>\n",
        "      <td>b'All the experts admit that we should legalis...</td>\n",
        "      <td>b'War in South Osetia - 89 pictures made by a ...</td>\n",
        "      <td>b'Swedish wrestler Ara Abrahamian throws away ...</td>\n",
        "      <td>b'Russia exaggerated the death toll in South O...</td>\n",
        "      <td>b'Missile That Killed 9 Inside Pakistan May Ha...</td>\n",
        "      <td>b\"Rushdie Condemns Random House's Refusal to P...</td>\n",
        "      <td>b'Poland and US agree to missle defense deal. ...</td>\n",
        "      <td>b'Will the Russians conquer Tblisi? Bet on it,...</td>\n",
        "      <td>...</td>\n",
        "      <td>b'Bank analyst forecast Georgian crisis 2 days...</td>\n",
        "      <td>b\"Georgia confict could set back Russia's US r...</td>\n",
        "      <td>b'War in the Caucasus is as much the product o...</td>\n",
        "      <td>b'\"Non-media\" photos of South Ossetia/Georgia ...</td>\n",
        "      <td>b'Georgian TV reporter shot by Russian sniper ...</td>\n",
        "      <td>b'Saudi Arabia: Mother moves to block child ma...</td>\n",
        "      <td>b'Taliban wages war on humanitarian aid workers'</td>\n",
        "      <td>b'Russia: World  \"can forget about\" Georgia\\'s...</td>\n",
        "      <td>b'Darfur rebels accuse Sudan of mounting major...</td>\n",
        "      <td>b'Philippines : Peace Advocate say Muslims nee...</td>\n",
        "    </tr>\n",
        "  </tbody>\n",
        "</table>\n",
        "<p>5 rows \u00d7 27 columns</p>\n",
        "</div>"
       ],
       "metadata": {},
       "output_type": "pyout",
       "prompt_number": 3,
       "text": [
        "         Date  Label                                               Top1  \\\n",
        "0  2008-08-08      0  b\"Georgia 'downs two Russian warplanes' as cou...   \n",
        "1  2008-08-11      1  b'Why wont America and Nato help us? If they w...   \n",
        "2  2008-08-12      0  b'Remember that adorable 9-year-old who sang a...   \n",
        "3  2008-08-13      0  b' U.S. refuses Israel weapons to attack Iran:...   \n",
        "4  2008-08-14      1  b'All the experts admit that we should legalis...   \n",
        "\n",
        "                                                Top2  \\\n",
        "0            b'BREAKING: Musharraf to be impeached.'   \n",
        "1        b'Bush puts foot down on Georgian conflict'   \n",
        "2                 b\"Russia 'ends Georgia operation'\"   \n",
        "3  b\"When the president ordered to attack Tskhinv...   \n",
        "4  b'War in South Osetia - 89 pictures made by a ...   \n",
        "\n",
        "                                                Top3  \\\n",
        "0  b'Russia Today: Columns of troops roll into So...   \n",
        "1  b\"Jewish Georgian minister: Thanks to Israeli ...   \n",
        "2  b'\"If we had no sexual harassment we would hav...   \n",
        "3  b' Israel clears troops who killed Reuters cam...   \n",
        "4  b'Swedish wrestler Ara Abrahamian throws away ...   \n",
        "\n",
        "                                                Top4  \\\n",
        "0  b'Russian tanks are moving towards the capital...   \n",
        "1  b'Georgian army flees in disarray as Russians ...   \n",
        "2  b\"Al-Qa'eda is losing support in Iraq because ...   \n",
        "3  b'Britain\\'s policy of being tough on drugs is...   \n",
        "4  b'Russia exaggerated the death toll in South O...   \n",
        "\n",
        "                                                Top5  \\\n",
        "0  b\"Afghan children raped with 'impunity,' U.N. ...   \n",
        "1      b\"Olympic opening ceremony fireworks 'faked'\"   \n",
        "2  b'Ceasefire in Georgia: Putin Outmaneuvers the...   \n",
        "3  b'Body of 14 year old found in trunk; Latest (...   \n",
        "4  b'Missile That Killed 9 Inside Pakistan May Ha...   \n",
        "\n",
        "                                                Top6  \\\n",
        "0  b'150 Russian tanks have entered South Ossetia...   \n",
        "1  b'What were the Mossad with fraudulent New Zea...   \n",
        "2  b'Why Microsoft and Intel tried to kill the XO...   \n",
        "3  b'China has moved 10 *million* quake survivors...   \n",
        "4  b\"Rushdie Condemns Random House's Refusal to P...   \n",
        "\n",
        "                                                Top7  \\\n",
        "0  b\"Breaking: Georgia invades South Ossetia, Rus...   \n",
        "1  b'Russia angered by Israeli military sale to G...   \n",
        "2  b'Stratfor: The Russo-Georgian War and the Bal...   \n",
        "3  b\"Bush announces Operation Get All Up In Russi...   \n",
        "4  b'Poland and US agree to missle defense deal. ...   \n",
        "\n",
        "                                                Top8  \\\n",
        "0  b\"The 'enemy combatent' trials are nothing but...   \n",
        "1  b'An American citizen living in S.Ossetia blam...   \n",
        "2  b\"I'm Trying to Get a Sense of This Whole Geor...   \n",
        "3             b'Russian forces sink Georgian ships '   \n",
        "4  b'Will the Russians conquer Tblisi? Bet on it,...   \n",
        "\n",
        "                         ...                          \\\n",
        "0                        ...                           \n",
        "1                        ...                           \n",
        "2                        ...                           \n",
        "3                        ...                           \n",
        "4                        ...                           \n",
        "\n",
        "                                               Top16  \\\n",
        "0  b'Georgia Invades South Ossetia - if Russia ge...   \n",
        "1  b'Israel and the US behind the Georgian aggres...   \n",
        "2  b'U.S. troops still in Georgia (did you know t...   \n",
        "3                      b'Elephants extinct by 2020?'   \n",
        "4  b'Bank analyst forecast Georgian crisis 2 days...   \n",
        "\n",
        "                                               Top17  \\\n",
        "0                b'Al-Qaeda Faces Islamist Backlash'   \n",
        "1  b'\"Do not believe TV, neither Russian nor Geor...   \n",
        "2       b'Why Russias response to Georgia was right'   \n",
        "3  b'US humanitarian missions soon in Georgia - i...   \n",
        "4  b\"Georgia confict could set back Russia's US r...   \n",
        "\n",
        "                                               Top18  \\\n",
        "0  b'Condoleezza Rice: \"The US would not act to p...   \n",
        "1  b'Riots are still going on in Montreal (Canada...   \n",
        "2  b'Gorbachev accuses U.S. of making a \"serious ...   \n",
        "3             b\"Georgia's DDOS came from US sources\"   \n",
        "4  b'War in the Caucasus is as much the product o...   \n",
        "\n",
        "                                               Top19  \\\n",
        "0  b'This is a busy day:  The European Union has ...   \n",
        "1    b'China to overtake US as largest manufacturer'   \n",
        "2         b'Russia, Georgia, and NATO: Cold War Two'   \n",
        "3  b'Russian convoy heads into Georgia, violating...   \n",
        "4  b'\"Non-media\" photos of South Ossetia/Georgia ...   \n",
        "\n",
        "                                               Top20  \\\n",
        "0  b\"Georgia will withdraw 1,000 soldiers from Ir...   \n",
        "1                     b'War in South Ossetia [PICS]'   \n",
        "2  b'Remember that adorable 62-year-old who led y...   \n",
        "3  b'Israeli defence minister: US against strike ...   \n",
        "4  b'Georgian TV reporter shot by Russian sniper ...   \n",
        "\n",
        "                                               Top21  \\\n",
        "0  b'Why the Pentagon Thinks Attacking Iran is a ...   \n",
        "1  b'Israeli Physicians Group Condemns State Tort...   \n",
        "2          b'War in Georgia: The Israeli connection'   \n",
        "3                     b'Gorbachev: We Had No Choice'   \n",
        "4  b'Saudi Arabia: Mother moves to block child ma...   \n",
        "\n",
        "                                               Top22  \\\n",
        "0  b'Caucasus in crisis: Georgia invades South Os...   \n",
        "1  b' Russia has just beaten the United States ov...   \n",
        "2  b'All signs point to the US encouraging Georgi...   \n",
        "3  b'Witness: Russian forces head towards Tbilisi...   \n",
        "4   b'Taliban wages war on humanitarian aid workers'   \n",
        "\n",
        "                                               Top23  \\\n",
        "0  b'Indian shoe manufactory  - And again in a se...   \n",
        "1  b'Perhaps *the* question about the Georgia - R...   \n",
        "2  b'Christopher King argues that the US and NATO...   \n",
        "3  b' Quarter of Russians blame U.S. for conflict...   \n",
        "4  b'Russia: World  \"can forget about\" Georgia\\'s...   \n",
        "\n",
        "                                               Top24  \\\n",
        "0  b'Visitors Suffering from Mental Illnesses Ban...   \n",
        "1                 b'Russia is so much better at war'   \n",
        "2                        b'America: The New Mexico?'   \n",
        "3  b'Georgian president  says US military will ta...   \n",
        "4  b'Darfur rebels accuse Sudan of mounting major...   \n",
        "\n",
        "                                               Top25  \n",
        "0           b\"No Help for Mexico's Kidnapping Surge\"  \n",
        "1  b\"So this is what it's come to: trading sex fo...  \n",
        "2  b\"BBC NEWS | Asia-Pacific | Extinction 'by man...  \n",
        "3  b'2006: Nobel laureate Aleksander Solzhenitsyn...  \n",
        "4  b'Philippines : Peace Advocate say Muslims nee...  \n",
        "\n",
        "[5 rows x 27 columns]"
       ]
      }
     ],
     "prompt_number": 3
    },
    {
     "cell_type": "markdown",
     "metadata": {
      "_cell_guid": "4987908b-e98c-7c20-6c11-023f1bb03883"
     },
     "source": [
      "We've got a lot of vaiables here, but the layout is pretty straight-forward.  \n",
      "As a reminder, the Label variable will be a **1** if the DJIA **stayed the same or rose** on that date or \n",
      " **0** if the DJIA **fell** on that date."
     ]
    },
    {
     "cell_type": "markdown",
     "metadata": {
      "_cell_guid": "30295018-7927-3c30-1b50-eb982fa3266e"
     },
     "source": [
      "And finally, before we get started on the rest of the notebook, we need to split our data into a training set and a testing set. Per Aaron's instructions, we'll use all of the dates up to the end of 2014 as our training data and everything after as testing data."
     ]
    },
    {
     "cell_type": "code",
     "collapsed": false,
     "input": [
      "train = data[data['Date'] < '2015-01-01']\n",
      "test = data[data['Date'] > '2014-12-31']"
     ],
     "language": "python",
     "metadata": {
      "_cell_guid": "b79d88e9-136b-c6c8-0ebb-cc564e24c26e"
     },
     "outputs": [],
     "prompt_number": 4
    },
    {
     "cell_type": "markdown",
     "metadata": {
      "_cell_guid": "6ae3f526-4148-0146-1964-9688eb9b08f1"
     },
     "source": [
      "----------"
     ]
    },
    {
     "cell_type": "heading",
     "level": 1,
     "metadata": {
      "_cell_guid": "ed38998a-6e7a-aa1c-fa3a-147245aacb5b"
     },
     "source": [
      "Text Preprocessing"
     ]
    },
    {
     "cell_type": "markdown",
     "metadata": {
      "_cell_guid": "a5bb5d3e-99d6-3485-d30b-9a638ea5f75f"
     },
     "source": [
      "Now that our data is loaded in, we need to clean it up just a little bit to prepare it for the rest of our analysis.  \n",
      "To illustrate this process, look at how the example headline below changes from cell to cell.  \n",
      "Don't worry about the code too much here, since this example is only meant to be visual."
     ]
    },
    {
     "cell_type": "code",
     "collapsed": false,
     "input": [
      "example = train.iloc[3,10]\n",
      "print(example)"
     ],
     "language": "python",
     "metadata": {
      "_cell_guid": "1a57d931-abd1-fc84-656c-6dcb7136fbe6"
     },
     "outputs": [
      {
       "output_type": "stream",
       "stream": "stdout",
       "text": [
        "b\"The commander of a Navy air reconnaissance squadron that provides the President and the defense secretary the airborne ability to command the nation's nuclear weapons has been relieved of duty\"\n"
       ]
      }
     ],
     "prompt_number": 5
    },
    {
     "cell_type": "code",
     "collapsed": false,
     "input": [
      "example2 = example.lower()\n",
      "print(example2)"
     ],
     "language": "python",
     "metadata": {
      "_cell_guid": "3cadd198-2b2d-bbf0-1c29-f15b2eee829d"
     },
     "outputs": [
      {
       "output_type": "stream",
       "stream": "stdout",
       "text": [
        "b\"the commander of a navy air reconnaissance squadron that provides the president and the defense secretary the airborne ability to command the nation's nuclear weapons has been relieved of duty\"\n"
       ]
      }
     ],
     "prompt_number": 6
    },
    {
     "cell_type": "code",
     "collapsed": false,
     "input": [
      "example3 = CountVectorizer().build_tokenizer()(example2)\n",
      "print(example3)"
     ],
     "language": "python",
     "metadata": {
      "_cell_guid": "4aa5b173-9021-e490-790f-1b00a2b31cb7"
     },
     "outputs": [
      {
       "output_type": "stream",
       "stream": "stdout",
       "text": [
        "['the', 'commander', 'of', 'navy', 'air', 'reconnaissance', 'squadron', 'that', 'provides', 'the', 'president', 'and', 'the', 'defense', 'secretary', 'the', 'airborne', 'ability', 'to', 'command', 'the', 'nation', 'nuclear', 'weapons', 'has', 'been', 'relieved', 'of', 'duty']\n"
       ]
      }
     ],
     "prompt_number": 7
    },
    {
     "cell_type": "code",
     "collapsed": false,
     "input": [
      "pd.DataFrame([[x,example3.count(x)] for x in set(example3)], columns = ['Word', 'Count'])"
     ],
     "language": "python",
     "metadata": {
      "_cell_guid": "9cb20699-bef3-1a23-f46d-1f863dd3c00b"
     },
     "outputs": [
      {
       "html": [
        "<div>\n",
        "<table border=\"1\" class=\"dataframe\">\n",
        "  <thead>\n",
        "    <tr style=\"text-align: right;\">\n",
        "      <th></th>\n",
        "      <th>Word</th>\n",
        "      <th>Count</th>\n",
        "    </tr>\n",
        "  </thead>\n",
        "  <tbody>\n",
        "    <tr>\n",
        "      <th>0</th>\n",
        "      <td>of</td>\n",
        "      <td>2</td>\n",
        "    </tr>\n",
        "    <tr>\n",
        "      <th>1</th>\n",
        "      <td>has</td>\n",
        "      <td>1</td>\n",
        "    </tr>\n",
        "    <tr>\n",
        "      <th>2</th>\n",
        "      <td>reconnaissance</td>\n",
        "      <td>1</td>\n",
        "    </tr>\n",
        "    <tr>\n",
        "      <th>3</th>\n",
        "      <td>defense</td>\n",
        "      <td>1</td>\n",
        "    </tr>\n",
        "    <tr>\n",
        "      <th>4</th>\n",
        "      <td>command</td>\n",
        "      <td>1</td>\n",
        "    </tr>\n",
        "    <tr>\n",
        "      <th>5</th>\n",
        "      <td>weapons</td>\n",
        "      <td>1</td>\n",
        "    </tr>\n",
        "    <tr>\n",
        "      <th>6</th>\n",
        "      <td>been</td>\n",
        "      <td>1</td>\n",
        "    </tr>\n",
        "    <tr>\n",
        "      <th>7</th>\n",
        "      <td>relieved</td>\n",
        "      <td>1</td>\n",
        "    </tr>\n",
        "    <tr>\n",
        "      <th>8</th>\n",
        "      <td>ability</td>\n",
        "      <td>1</td>\n",
        "    </tr>\n",
        "    <tr>\n",
        "      <th>9</th>\n",
        "      <td>and</td>\n",
        "      <td>1</td>\n",
        "    </tr>\n",
        "    <tr>\n",
        "      <th>10</th>\n",
        "      <td>duty</td>\n",
        "      <td>1</td>\n",
        "    </tr>\n",
        "    <tr>\n",
        "      <th>11</th>\n",
        "      <td>president</td>\n",
        "      <td>1</td>\n",
        "    </tr>\n",
        "    <tr>\n",
        "      <th>12</th>\n",
        "      <td>provides</td>\n",
        "      <td>1</td>\n",
        "    </tr>\n",
        "    <tr>\n",
        "      <th>13</th>\n",
        "      <td>that</td>\n",
        "      <td>1</td>\n",
        "    </tr>\n",
        "    <tr>\n",
        "      <th>14</th>\n",
        "      <td>navy</td>\n",
        "      <td>1</td>\n",
        "    </tr>\n",
        "    <tr>\n",
        "      <th>15</th>\n",
        "      <td>nation</td>\n",
        "      <td>1</td>\n",
        "    </tr>\n",
        "    <tr>\n",
        "      <th>16</th>\n",
        "      <td>squadron</td>\n",
        "      <td>1</td>\n",
        "    </tr>\n",
        "    <tr>\n",
        "      <th>17</th>\n",
        "      <td>the</td>\n",
        "      <td>5</td>\n",
        "    </tr>\n",
        "    <tr>\n",
        "      <th>18</th>\n",
        "      <td>commander</td>\n",
        "      <td>1</td>\n",
        "    </tr>\n",
        "    <tr>\n",
        "      <th>19</th>\n",
        "      <td>airborne</td>\n",
        "      <td>1</td>\n",
        "    </tr>\n",
        "    <tr>\n",
        "      <th>20</th>\n",
        "      <td>air</td>\n",
        "      <td>1</td>\n",
        "    </tr>\n",
        "    <tr>\n",
        "      <th>21</th>\n",
        "      <td>to</td>\n",
        "      <td>1</td>\n",
        "    </tr>\n",
        "    <tr>\n",
        "      <th>22</th>\n",
        "      <td>nuclear</td>\n",
        "      <td>1</td>\n",
        "    </tr>\n",
        "    <tr>\n",
        "      <th>23</th>\n",
        "      <td>secretary</td>\n",
        "      <td>1</td>\n",
        "    </tr>\n",
        "  </tbody>\n",
        "</table>\n",
        "</div>"
       ],
       "metadata": {},
       "output_type": "pyout",
       "prompt_number": 8,
       "text": [
        "              Word  Count\n",
        "0               of      2\n",
        "1              has      1\n",
        "2   reconnaissance      1\n",
        "3          defense      1\n",
        "4          command      1\n",
        "5          weapons      1\n",
        "6             been      1\n",
        "7         relieved      1\n",
        "8          ability      1\n",
        "9              and      1\n",
        "10            duty      1\n",
        "11       president      1\n",
        "12        provides      1\n",
        "13            that      1\n",
        "14            navy      1\n",
        "15          nation      1\n",
        "16        squadron      1\n",
        "17             the      5\n",
        "18       commander      1\n",
        "19        airborne      1\n",
        "20             air      1\n",
        "21              to      1\n",
        "22         nuclear      1\n",
        "23       secretary      1"
       ]
      }
     ],
     "prompt_number": 8
    },
    {
     "cell_type": "markdown",
     "metadata": {
      "_cell_guid": "4c824f61-f8a5-66d6-f1a7-cff3b64c4190"
     },
     "source": [
      "Were you able to see everything that changed?  \n",
      "The process involved:  \n",
      "- Converting the headline to lowercase letters  \n",
      "- Splitting the sentence into a list of words  \n",
      "- Removing punctuation and meaningless words  \n",
      "- Transforming that list into a table of counts"
     ]
    },
    {
     "cell_type": "markdown",
     "metadata": {
      "_cell_guid": "4663088a-e834-2512-1f87-ca768f49ae2c"
     },
     "source": [
      "What started as a relatively \"messy\" sentence has now become an neatly organized table!  \n",
      "And while this may not be exactly what goes on behind the scenes with scikit-learn, this example should give you a pretty good idea about how it works."
     ]
    },
    {
     "cell_type": "markdown",
     "metadata": {
      "_cell_guid": "4ec409c9-443f-56eb-5194-63b6db6ee00f"
     },
     "source": [
      "So now that you've seen what the text processing looks like, let's get started on the fun part, modeling!"
     ]
    },
    {
     "cell_type": "markdown",
     "metadata": {
      "_cell_guid": "d142f2bc-f61e-4829-4c13-6da37345eea6"
     },
     "source": [
      "----------"
     ]
    },
    {
     "cell_type": "heading",
     "level": 1,
     "metadata": {
      "_cell_guid": "cc8aa11c-93cd-1c4b-bf03-21b20a652ecc"
     },
     "source": [
      "Basic Model Training and Testing"
     ]
    },
    {
     "cell_type": "markdown",
     "metadata": {
      "_cell_guid": "adcff1c8-9d37-4329-aaeb-6a5a7ac6a53d"
     },
     "source": [
      "As mentioned previously, scikit-learn is going to take care of all of our preprocessing needs.  \n",
      "The tool we'll be using is CountVectorizer, which takes a single list of strings as input, and produces word counts for each one."
     ]
    },
    {
     "cell_type": "markdown",
     "metadata": {
      "_cell_guid": "2119fab1-da05-c807-85bb-247a0f378363"
     },
     "source": [
      "You might be wondering if our dataframe meets this \"single list of strings\" criteria, and the answer to that is... it doesn't!  \n",
      "In order to meet this criteria, we'll use the following [for loop](https://wiki.python.org/moin/ForLoop) to iterate through each row of our dataset, [combine](https://docs.python.org/3.5/library/stdtypes.html#str.join) all of our headlines into a single string, then [add](https://docs.python.org/3.5/tutorial/datastructures.html) that string to the list we need for CountVectorizer."
     ]
    },
    {
     "cell_type": "code",
     "collapsed": false,
     "input": [
      "trainheadlines = []\n",
      "for row in range(0,len(train.index)):\n",
      "    trainheadlines.append(' '.join(str(x) for x in train.iloc[row,2:27]))"
     ],
     "language": "python",
     "metadata": {
      "_cell_guid": "3c8ed1f2-2dcf-1015-05b7-edfb95773b4e"
     },
     "outputs": [],
     "prompt_number": 9
    },
    {
     "cell_type": "markdown",
     "metadata": {
      "_cell_guid": "edfbef25-8c6b-5e78-aac5-f9f47df72f25"
     },
     "source": [
      "With our headlines formatted, we can set up our CountVectorizer.  \n",
      "To start, let's just use the default settings and see how it goes!  \n",
      "Below, we'll name our default vectorizer, then [use](http://scikit-learn.org/stable/modules/generated/sklearn.feature_extraction.text.CountVectorizer.html#sklearn.feature_extraction.text.CountVectorizer.fit_transform) it on our list of combined headlines.  \n",
      "After that, we'll take a look at the size of the result to see how many words we have."
     ]
    },
    {
     "cell_type": "code",
     "collapsed": false,
     "input": [
      "basicvectorizer = CountVectorizer()\n",
      "basictrain = basicvectorizer.fit_transform(trainheadlines)\n",
      "print(basictrain.shape)"
     ],
     "language": "python",
     "metadata": {
      "_cell_guid": "18f44a5c-3f39-5ce4-5f0b-9aa86ac29f5d"
     },
     "outputs": [
      {
       "output_type": "stream",
       "stream": "stdout",
       "text": [
        "(1611, 31675)\n"
       ]
      }
     ],
     "prompt_number": 10
    },
    {
     "cell_type": "markdown",
     "metadata": {
      "_cell_guid": "cae0096e-5a09-2304-184e-e4afebe753b8"
     },
     "source": [
      "Wow! Our resulting table contains counts for 31,675 different words!"
     ]
    },
    {
     "cell_type": "markdown",
     "metadata": {
      "_cell_guid": "781fb862-f8c2-1e5e-af6f-16f6922eb6c8"
     },
     "source": [
      "Now, let's train a logistic regression model using this data.  \n",
      "In the cell below, we're simply naming our model, then [fitting](http://scikit-learn.org/stable/modules/generated/sklearn.linear_model.LogisticRegression.html#sklearn.linear_model.LogisticRegression.fit) the model based on our X and Y values."
     ]
    },
    {
     "cell_type": "code",
     "collapsed": false,
     "input": [
      "basicmodel = LogisticRegression()\n",
      "basicmodel = basicmodel.fit(basictrain, train[\"Label\"])"
     ],
     "language": "python",
     "metadata": {
      "_cell_guid": "5f4d9232-5b01-4c65-a933-eda036a25216"
     },
     "outputs": [],
     "prompt_number": 11
    },
    {
     "cell_type": "markdown",
     "metadata": {
      "_cell_guid": "5e43218f-9c22-bb3c-8e3f-964857c1c7bb"
     },
     "source": [
      "Our model is ready to go, so let's set up our test data.  \n",
      "Here, we're just going to repeat the steps we used to prep our training data, then [predict](http://scikit-learn.org/stable/modules/generated/sklearn.linear_model.LogisticRegression.html#sklearn.linear_model.LogisticRegression.predict) whether the DJIA increased or decreased for each day in the test dataset."
     ]
    },
    {
     "cell_type": "code",
     "collapsed": false,
     "input": [
      "testheadlines = []\n",
      "for row in range(0,len(test.index)):\n",
      "    testheadlines.append(' '.join(str(x) for x in test.iloc[row,2:27]))\n",
      "basictest = basicvectorizer.transform(testheadlines)\n",
      "predictions = basicmodel.predict(basictest)"
     ],
     "language": "python",
     "metadata": {
      "_cell_guid": "2c51dcd0-0d7a-41d5-6445-0eadf1d18e87"
     },
     "outputs": [],
     "prompt_number": 12
    },
    {
     "cell_type": "markdown",
     "metadata": {
      "_cell_guid": "42e8b6a7-b138-ac21-a64b-3ddb3717aa19"
     },
     "source": [
      "The predictions are set, so let's use a [crosstab](http://pandas.pydata.org/pandas-docs/stable/generated/pandas.crosstab.html) to take a look at the results!"
     ]
    },
    {
     "cell_type": "code",
     "collapsed": false,
     "input": [
      "pd.crosstab(test[\"Label\"], predictions, rownames=[\"Actual\"], colnames=[\"Predicted\"])"
     ],
     "language": "python",
     "metadata": {
      "_cell_guid": "2db3b5d0-f86a-5d23-3ae5-7fe725dbd4ab"
     },
     "outputs": [
      {
       "html": [
        "<div>\n",
        "<table border=\"1\" class=\"dataframe\">\n",
        "  <thead>\n",
        "    <tr style=\"text-align: right;\">\n",
        "      <th>Predicted</th>\n",
        "      <th>0</th>\n",
        "      <th>1</th>\n",
        "    </tr>\n",
        "    <tr>\n",
        "      <th>Actual</th>\n",
        "      <th></th>\n",
        "      <th></th>\n",
        "    </tr>\n",
        "  </thead>\n",
        "  <tbody>\n",
        "    <tr>\n",
        "      <th>0</th>\n",
        "      <td>61</td>\n",
        "      <td>125</td>\n",
        "    </tr>\n",
        "    <tr>\n",
        "      <th>1</th>\n",
        "      <td>92</td>\n",
        "      <td>100</td>\n",
        "    </tr>\n",
        "  </tbody>\n",
        "</table>\n",
        "</div>"
       ],
       "metadata": {},
       "output_type": "pyout",
       "prompt_number": 13,
       "text": [
        "Predicted   0    1\n",
        "Actual            \n",
        "0          61  125\n",
        "1          92  100"
       ]
      }
     ],
     "prompt_number": 13
    },
    {
     "cell_type": "markdown",
     "metadata": {
      "_cell_guid": "acd37c68-a42c-0f95-cd05-cc9e2aae6a41"
     },
     "source": [
      "Prediction accuracy is just over 42%. It seems like this model isn't too reliable.  \n",
      "Now, let's also take a look at the coefficients of our model. (Excellent request from [Lucie](https://www.kaggle.com/luciegattepaille)!)"
     ]
    },
    {
     "cell_type": "markdown",
     "metadata": {
      "_cell_guid": "3345bcdf-e9e5-a1da-18e7-21ba26824a10"
     },
     "source": [
      "The cell below will get a list of the names from our CountVectorizer and a list of the coefficients from our model, then combine the two lists into a Pandas dataframe.  \n",
      "Once that's made, we can sort it and check out the top 10 positive and negative coefficients."
     ]
    },
    {
     "cell_type": "code",
     "collapsed": false,
     "input": [
      "basicwords = basicvectorizer.get_feature_names()\n",
      "basiccoeffs = basicmodel.coef_.tolist()[0]\n",
      "coeffdf = pd.DataFrame({'Word' : basicwords, \n",
      "                        'Coefficient' : basiccoeffs})\n",
      "coeffdf = coeffdf.sort_values(['Coefficient', 'Word'], ascending=[0, 1])\n",
      "coeffdf.head(10)"
     ],
     "language": "python",
     "metadata": {
      "_cell_guid": "9d2c7daa-8e28-9849-1fc6-4b0fab9967cf"
     },
     "outputs": [
      {
       "html": [
        "<div>\n",
        "<table border=\"1\" class=\"dataframe\">\n",
        "  <thead>\n",
        "    <tr style=\"text-align: right;\">\n",
        "      <th></th>\n",
        "      <th>Coefficient</th>\n",
        "      <th>Word</th>\n",
        "    </tr>\n",
        "  </thead>\n",
        "  <tbody>\n",
        "    <tr>\n",
        "      <th>19419</th>\n",
        "      <td>0.497924</td>\n",
        "      <td>nigeria</td>\n",
        "    </tr>\n",
        "    <tr>\n",
        "      <th>25261</th>\n",
        "      <td>0.452526</td>\n",
        "      <td>self</td>\n",
        "    </tr>\n",
        "    <tr>\n",
        "      <th>29286</th>\n",
        "      <td>0.428011</td>\n",
        "      <td>tv</td>\n",
        "    </tr>\n",
        "    <tr>\n",
        "      <th>15998</th>\n",
        "      <td>0.425863</td>\n",
        "      <td>korea</td>\n",
        "    </tr>\n",
        "    <tr>\n",
        "      <th>20135</th>\n",
        "      <td>0.425716</td>\n",
        "      <td>olympics</td>\n",
        "    </tr>\n",
        "    <tr>\n",
        "      <th>15843</th>\n",
        "      <td>0.411636</td>\n",
        "      <td>kills</td>\n",
        "    </tr>\n",
        "    <tr>\n",
        "      <th>26323</th>\n",
        "      <td>0.411267</td>\n",
        "      <td>so</td>\n",
        "    </tr>\n",
        "    <tr>\n",
        "      <th>29256</th>\n",
        "      <td>0.394855</td>\n",
        "      <td>turn</td>\n",
        "    </tr>\n",
        "    <tr>\n",
        "      <th>10874</th>\n",
        "      <td>0.388555</td>\n",
        "      <td>fears</td>\n",
        "    </tr>\n",
        "    <tr>\n",
        "      <th>28274</th>\n",
        "      <td>0.384031</td>\n",
        "      <td>territory</td>\n",
        "    </tr>\n",
        "  </tbody>\n",
        "</table>\n",
        "</div>"
       ],
       "metadata": {},
       "output_type": "pyout",
       "prompt_number": 14,
       "text": [
        "       Coefficient       Word\n",
        "19419     0.497924    nigeria\n",
        "25261     0.452526       self\n",
        "29286     0.428011         tv\n",
        "15998     0.425863      korea\n",
        "20135     0.425716   olympics\n",
        "15843     0.411636      kills\n",
        "26323     0.411267         so\n",
        "29256     0.394855       turn\n",
        "10874     0.388555      fears\n",
        "28274     0.384031  territory"
       ]
      }
     ],
     "prompt_number": 14
    },
    {
     "cell_type": "code",
     "collapsed": false,
     "input": [
      "coeffdf.tail(10)"
     ],
     "language": "python",
     "metadata": {
      "_cell_guid": "5ea266d6-6a99-10ee-a109-7e82406225df"
     },
     "outputs": [
      {
       "html": [
        "<div>\n",
        "<table border=\"1\" class=\"dataframe\">\n",
        "  <thead>\n",
        "    <tr style=\"text-align: right;\">\n",
        "      <th></th>\n",
        "      <th>Coefficient</th>\n",
        "      <th>Word</th>\n",
        "    </tr>\n",
        "  </thead>\n",
        "  <tbody>\n",
        "    <tr>\n",
        "      <th>27299</th>\n",
        "      <td>-0.424441</td>\n",
        "      <td>students</td>\n",
        "    </tr>\n",
        "    <tr>\n",
        "      <th>8478</th>\n",
        "      <td>-0.427079</td>\n",
        "      <td>did</td>\n",
        "    </tr>\n",
        "    <tr>\n",
        "      <th>6683</th>\n",
        "      <td>-0.431925</td>\n",
        "      <td>congo</td>\n",
        "    </tr>\n",
        "    <tr>\n",
        "      <th>12818</th>\n",
        "      <td>-0.444069</td>\n",
        "      <td>hacking</td>\n",
        "    </tr>\n",
        "    <tr>\n",
        "      <th>7139</th>\n",
        "      <td>-0.448570</td>\n",
        "      <td>country</td>\n",
        "    </tr>\n",
        "    <tr>\n",
        "      <th>16949</th>\n",
        "      <td>-0.463116</td>\n",
        "      <td>low</td>\n",
        "    </tr>\n",
        "    <tr>\n",
        "      <th>3651</th>\n",
        "      <td>-0.470454</td>\n",
        "      <td>begin</td>\n",
        "    </tr>\n",
        "    <tr>\n",
        "      <th>25433</th>\n",
        "      <td>-0.494555</td>\n",
        "      <td>sex</td>\n",
        "    </tr>\n",
        "    <tr>\n",
        "      <th>24754</th>\n",
        "      <td>-0.549725</td>\n",
        "      <td>sanctions</td>\n",
        "    </tr>\n",
        "    <tr>\n",
        "      <th>24542</th>\n",
        "      <td>-0.587794</td>\n",
        "      <td>run</td>\n",
        "    </tr>\n",
        "  </tbody>\n",
        "</table>\n",
        "</div>"
       ],
       "metadata": {},
       "output_type": "pyout",
       "prompt_number": 15,
       "text": [
        "       Coefficient       Word\n",
        "27299    -0.424441   students\n",
        "8478     -0.427079        did\n",
        "6683     -0.431925      congo\n",
        "12818    -0.444069    hacking\n",
        "7139     -0.448570    country\n",
        "16949    -0.463116        low\n",
        "3651     -0.470454      begin\n",
        "25433    -0.494555        sex\n",
        "24754    -0.549725  sanctions\n",
        "24542    -0.587794        run"
       ]
      }
     ],
     "prompt_number": 15
    },
    {
     "cell_type": "markdown",
     "metadata": {
      "_cell_guid": "0a1d664f-9f87-f30d-3c90-83c2a774257b"
     },
     "source": [
      "Our most positive words don't seem particularly interesting, however there are some negative sounding words within our bottom 10, such as \"sanctions,\" \"low,\" and \"hacking.\"  \n",
      "Maybe the saying \"no news is good news\" is true here?"
     ]
    },
    {
     "cell_type": "markdown",
     "metadata": {
      "_cell_guid": "aabb5e54-c8b5-e952-0701-8fe3febd64b3"
     },
     "source": [
      "----------"
     ]
    },
    {
     "cell_type": "heading",
     "level": 1,
     "metadata": {
      "_cell_guid": "d4d97261-5f0c-bbd6-f3bd-87cd6f39f224"
     },
     "source": [
      "Advanced Modeling"
     ]
    },
    {
     "cell_type": "markdown",
     "metadata": {
      "_cell_guid": "8d86b6ae-68f1-90d7-22c3-6ab1a9dfe9e9"
     },
     "source": [
      "The technique we just used is known as a **bag-of-words** model. We essentially placed all of our headlines into a \"bag\" and counted the words as we pulled them out.  \n",
      "However, most people would agree that a single word doesn't always have enough meaning by itself.  \n",
      "Obviously, we need to consider the rest of the words in the sentence as well!  "
     ]
    },
    {
     "cell_type": "markdown",
     "metadata": {
      "_cell_guid": "fd5f8e9e-7936-0a71-78cf-89d8c1ab61ae"
     },
     "source": [
      "This is where the **n-gram** model comes in.  \n",
      "In this model, n represents the length of a sequence of words to be counted.  \n",
      "This means our bag-of-words model was the same as an n-gram model where n = 1.  \n",
      "So now, let's see what happens when we run an n-gram model where n = 2."
     ]
    },
    {
     "cell_type": "markdown",
     "metadata": {
      "_cell_guid": "aa207db9-951a-29da-2fe9-021502e24780"
     },
     "source": [
      "Below, we'll create a new CountVectorizer with the n-gram parameter set to 2 instead of the default value of 1."
     ]
    },
    {
     "cell_type": "code",
     "collapsed": false,
     "input": [
      "advancedvectorizer = CountVectorizer(ngram_range=(2,2))\n",
      "advancedtrain = advancedvectorizer.fit_transform(trainheadlines)"
     ],
     "language": "python",
     "metadata": {
      "_cell_guid": "1bfe7bd0-6330-23e1-da05-41a072249291"
     },
     "outputs": [],
     "prompt_number": 16
    },
    {
     "cell_type": "markdown",
     "metadata": {
      "_cell_guid": "a84ee6fa-d38b-ba5d-ed08-cd32ae7b479b"
     },
     "source": [
      "Now that we've run our vectorizer, let's see what our data looks like this time around."
     ]
    },
    {
     "cell_type": "code",
     "collapsed": false,
     "input": [
      "print(advancedtrain.shape)"
     ],
     "language": "python",
     "metadata": {
      "_cell_guid": "be873375-6cba-796c-69a1-5218118af3df"
     },
     "outputs": [
      {
       "output_type": "stream",
       "stream": "stdout",
       "text": [
        "(1611, 366721)\n"
       ]
      }
     ],
     "prompt_number": 17
    },
    {
     "cell_type": "markdown",
     "metadata": {
      "_cell_guid": "c0f41320-bb02-d8d5-7a03-9e64e66c978b"
     },
     "source": [
      "This time we have 366,721 unique variables representing two-word combinations!  \n",
      "And here I thought last time was big..."
     ]
    },
    {
     "cell_type": "markdown",
     "metadata": {
      "_cell_guid": "20031a48-cbe5-4b60-116c-6a90e9017ac8"
     },
     "source": [
      "So, just like last time, let's name and fit our regression model."
     ]
    },
    {
     "cell_type": "code",
     "collapsed": false,
     "input": [
      "advancedmodel = LogisticRegression()\n",
      "advancedmodel = advancedmodel.fit(advancedtrain, train[\"Label\"])"
     ],
     "language": "python",
     "metadata": {
      "_cell_guid": "82609b09-1c0d-92e5-739a-dad9859ea2ed"
     },
     "outputs": [],
     "prompt_number": 18
    },
    {
     "cell_type": "markdown",
     "metadata": {
      "_cell_guid": "685a6540-2e70-0aa3-d6a2-50df0750d1c9"
     },
     "source": [
      "And again like last time, let's transform our test data and make some predictions!"
     ]
    },
    {
     "cell_type": "code",
     "collapsed": false,
     "input": [
      "testheadlines = []\n",
      "for row in range(0,len(test.index)):\n",
      "    testheadlines.append(' '.join(str(x) for x in test.iloc[row,2:27]))\n",
      "advancedtest = advancedvectorizer.transform(testheadlines)\n",
      "advpredictions = advancedmodel.predict(advancedtest)"
     ],
     "language": "python",
     "metadata": {
      "_cell_guid": "7e30825f-fd0b-f112-34d2-759ddab1de6b"
     },
     "outputs": [],
     "prompt_number": 19
    },
    {
     "cell_type": "markdown",
     "metadata": {
      "_cell_guid": "452d263e-e523-596a-927d-8fefcec268c7"
     },
     "source": [
      "Crosstab says...!"
     ]
    },
    {
     "cell_type": "code",
     "collapsed": false,
     "input": [
      "pd.crosstab(test[\"Label\"], advpredictions, rownames=[\"Actual\"], colnames=[\"Predicted\"])"
     ],
     "language": "python",
     "metadata": {
      "_cell_guid": "16c834ce-8bbc-cb82-58c4-5d11cbf64c64"
     },
     "outputs": [
      {
       "html": [
        "<div>\n",
        "<table border=\"1\" class=\"dataframe\">\n",
        "  <thead>\n",
        "    <tr style=\"text-align: right;\">\n",
        "      <th>Predicted</th>\n",
        "      <th>0</th>\n",
        "      <th>1</th>\n",
        "    </tr>\n",
        "    <tr>\n",
        "      <th>Actual</th>\n",
        "      <th></th>\n",
        "      <th></th>\n",
        "    </tr>\n",
        "  </thead>\n",
        "  <tbody>\n",
        "    <tr>\n",
        "      <th>0</th>\n",
        "      <td>66</td>\n",
        "      <td>120</td>\n",
        "    </tr>\n",
        "    <tr>\n",
        "      <th>1</th>\n",
        "      <td>45</td>\n",
        "      <td>147</td>\n",
        "    </tr>\n",
        "  </tbody>\n",
        "</table>\n",
        "</div>"
       ],
       "metadata": {},
       "output_type": "pyout",
       "prompt_number": 20,
       "text": [
        "Predicted   0    1\n",
        "Actual            \n",
        "0          66  120\n",
        "1          45  147"
       ]
      }
     ],
     "prompt_number": 20
    },
    {
     "cell_type": "markdown",
     "metadata": {
      "_cell_guid": "67f0954f-9117-2852-9316-e6c3c4de5715"
     },
     "source": [
      "This time we're up to nearly 57% prediction accuracy.  \n",
      "We might only consider this a slight improvement, but keep in mind that we've barely scratched the surface of NLP here, and we haven't even touched more advanced machine learning techniques.  \n",
      "Let's check out our coefficients again as well!"
     ]
    },
    {
     "cell_type": "code",
     "collapsed": false,
     "input": [
      "advwords = advancedvectorizer.get_feature_names()\n",
      "advcoeffs = advancedmodel.coef_.tolist()[0]\n",
      "advcoeffdf = pd.DataFrame({'Words' : advwords, \n",
      "                        'Coefficient' : advcoeffs})\n",
      "advcoeffdf = advcoeffdf.sort_values(['Coefficient', 'Words'], ascending=[0, 1])\n",
      "advcoeffdf.head(10)"
     ],
     "language": "python",
     "metadata": {
      "_cell_guid": "5baeabb3-03b4-5856-c9c3-a8f5b90acaf6"
     },
     "outputs": [
      {
       "html": [
        "<div>\n",
        "<table border=\"1\" class=\"dataframe\">\n",
        "  <thead>\n",
        "    <tr style=\"text-align: right;\">\n",
        "      <th></th>\n",
        "      <th>Coefficient</th>\n",
        "      <th>Words</th>\n",
        "    </tr>\n",
        "  </thead>\n",
        "  <tbody>\n",
        "    <tr>\n",
        "      <th>272047</th>\n",
        "      <td>0.286533</td>\n",
        "      <td>right to</td>\n",
        "    </tr>\n",
        "    <tr>\n",
        "      <th>24710</th>\n",
        "      <td>0.275274</td>\n",
        "      <td>and other</td>\n",
        "    </tr>\n",
        "    <tr>\n",
        "      <th>285392</th>\n",
        "      <td>0.274698</td>\n",
        "      <td>set to</td>\n",
        "    </tr>\n",
        "    <tr>\n",
        "      <th>316194</th>\n",
        "      <td>0.262873</td>\n",
        "      <td>the first</td>\n",
        "    </tr>\n",
        "    <tr>\n",
        "      <th>157511</th>\n",
        "      <td>0.227943</td>\n",
        "      <td>in china</td>\n",
        "    </tr>\n",
        "    <tr>\n",
        "      <th>159522</th>\n",
        "      <td>0.224184</td>\n",
        "      <td>in south</td>\n",
        "    </tr>\n",
        "    <tr>\n",
        "      <th>125870</th>\n",
        "      <td>0.219130</td>\n",
        "      <td>found in</td>\n",
        "    </tr>\n",
        "    <tr>\n",
        "      <th>124411</th>\n",
        "      <td>0.216726</td>\n",
        "      <td>forced to</td>\n",
        "    </tr>\n",
        "    <tr>\n",
        "      <th>173246</th>\n",
        "      <td>0.211137</td>\n",
        "      <td>it has</td>\n",
        "    </tr>\n",
        "    <tr>\n",
        "      <th>322590</th>\n",
        "      <td>0.209239</td>\n",
        "      <td>this is</td>\n",
        "    </tr>\n",
        "  </tbody>\n",
        "</table>\n",
        "</div>"
       ],
       "metadata": {},
       "output_type": "pyout",
       "prompt_number": 21,
       "text": [
        "        Coefficient      Words\n",
        "272047     0.286533   right to\n",
        "24710      0.275274  and other\n",
        "285392     0.274698     set to\n",
        "316194     0.262873  the first\n",
        "157511     0.227943   in china\n",
        "159522     0.224184   in south\n",
        "125870     0.219130   found in\n",
        "124411     0.216726  forced to\n",
        "173246     0.211137     it has\n",
        "322590     0.209239    this is"
       ]
      }
     ],
     "prompt_number": 21
    },
    {
     "cell_type": "code",
     "collapsed": false,
     "input": [
      "advcoeffdf.tail(10)"
     ],
     "language": "python",
     "metadata": {
      "_cell_guid": "b80cc33e-8016-3409-e6ff-8fdcb5481db4"
     },
     "outputs": [
      {
       "html": [
        "<div>\n",
        "<table border=\"1\" class=\"dataframe\">\n",
        "  <thead>\n",
        "    <tr style=\"text-align: right;\">\n",
        "      <th></th>\n",
        "      <th>Coefficient</th>\n",
        "      <th>Words</th>\n",
        "    </tr>\n",
        "  </thead>\n",
        "  <tbody>\n",
        "    <tr>\n",
        "      <th>326846</th>\n",
        "      <td>-0.198495</td>\n",
        "      <td>to help</td>\n",
        "    </tr>\n",
        "    <tr>\n",
        "      <th>118707</th>\n",
        "      <td>-0.201654</td>\n",
        "      <td>fire on</td>\n",
        "    </tr>\n",
        "    <tr>\n",
        "      <th>155038</th>\n",
        "      <td>-0.209702</td>\n",
        "      <td>if he</td>\n",
        "    </tr>\n",
        "    <tr>\n",
        "      <th>242528</th>\n",
        "      <td>-0.211303</td>\n",
        "      <td>people are</td>\n",
        "    </tr>\n",
        "    <tr>\n",
        "      <th>31669</th>\n",
        "      <td>-0.213362</td>\n",
        "      <td>around the</td>\n",
        "    </tr>\n",
        "    <tr>\n",
        "      <th>321333</th>\n",
        "      <td>-0.215699</td>\n",
        "      <td>there is</td>\n",
        "    </tr>\n",
        "    <tr>\n",
        "      <th>327113</th>\n",
        "      <td>-0.221812</td>\n",
        "      <td>to kill</td>\n",
        "    </tr>\n",
        "    <tr>\n",
        "      <th>340714</th>\n",
        "      <td>-0.226289</td>\n",
        "      <td>up in</td>\n",
        "    </tr>\n",
        "    <tr>\n",
        "      <th>358917</th>\n",
        "      <td>-0.227516</td>\n",
        "      <td>with iran</td>\n",
        "    </tr>\n",
        "    <tr>\n",
        "      <th>315485</th>\n",
        "      <td>-0.331153</td>\n",
        "      <td>the country</td>\n",
        "    </tr>\n",
        "  </tbody>\n",
        "</table>\n",
        "</div>"
       ],
       "metadata": {},
       "output_type": "pyout",
       "prompt_number": 22,
       "text": [
        "        Coefficient        Words\n",
        "326846    -0.198495      to help\n",
        "118707    -0.201654      fire on\n",
        "155038    -0.209702        if he\n",
        "242528    -0.211303   people are\n",
        "31669     -0.213362   around the\n",
        "321333    -0.215699     there is\n",
        "327113    -0.221812      to kill\n",
        "340714    -0.226289        up in\n",
        "358917    -0.227516    with iran\n",
        "315485    -0.331153  the country"
       ]
      }
     ],
     "prompt_number": 22
    },
    {
     "cell_type": "markdown",
     "metadata": {
      "_cell_guid": "98b308d6-d359-97b4-401b-5ee2a8825219"
     },
     "source": [
      "It seems that the results this time were fairly similar. Most of the positive bigrams are unremarkable, while a few of the negative ones like \"bin laden\" and \"threatens to\" could be considered to carry some negative meaning."
     ]
    },
    {
     "cell_type": "markdown",
     "metadata": {
      "_cell_guid": "1e2d5df8-c48f-6edf-785d-85a9f8d92a26"
     },
     "source": [
      "----------"
     ]
    },
    {
     "cell_type": "heading",
     "level": 1,
     "metadata": {
      "_cell_guid": "91b9197d-ee3a-6b3c-0858-a63ac09c7f50"
     },
     "source": [
      "What's next?"
     ]
    },
    {
     "cell_type": "markdown",
     "metadata": {
      "_cell_guid": "a2ae4a28-1023-2586-c445-8c5e8fd6ecc6"
     },
     "source": [
      "If you'd like to keep going forward with this notebook, here are a couple of project ideas:  \n",
      "- Experiment with different n values using the n-gram model  \n",
      "- Use previous days' headlines to truly \"predict\" whether the DJIA will rise or fall  \n",
      "- Try a machine learning algorithm instead of the basic logistic regression used in this notebook"
     ]
    },
    {
     "cell_type": "markdown",
     "metadata": {
      "_cell_guid": "a0ca7639-57ae-cbed-c514-01c07667650e"
     },
     "source": [
      "Thanks again for reading! I hope you found this helpful!"
     ]
    }
   ],
   "metadata": {}
  }
 ]
}