{
 "cells": [
  {
   "cell_type": "code",
   "execution_count": 1,
   "metadata": {},
   "outputs": [],
   "source": [
    "import pandas as pd\n",
    "from sklearn.feature_extraction.text import CountVectorizer\n",
    "from sklearn.linear_model import LogisticRegression"
   ]
  },
  {
   "cell_type": "code",
   "execution_count": 2,
   "metadata": {},
   "outputs": [],
   "source": [
    "data = pd.read_csv('Combined_News_DJIA.csv')\n",
    "train = data[data['Date'] < '2015-01-01']\n",
    "test = data[data['Date'] > '2014-12-31']"
   ]
  },
  {
   "cell_type": "code",
   "execution_count": 11,
   "metadata": {},
   "outputs": [
    {
     "name": "stdout",
     "output_type": "stream",
     "text": [
      "b\"Georgia 'downs two Russian warplanes' as countries move to brink of war\" b'BREAKING: Musharraf to be impeached.' b'Russia Today: Columns of troops roll into South Ossetia; footage from fighting (YouTube)' b'Russian tanks are moving towards the capital of South Ossetia, which has reportedly been completely destroyed by Georgian artillery fire' b\"Afghan children raped with 'impunity,' U.N. official says - this is sick, a three year old was raped and they do nothing\" b'150 Russian tanks have entered South Ossetia whilst Georgia shoots down two Russian jets.' b\"Breaking: Georgia invades South Ossetia, Russia warned it would intervene on SO's side\" b\"The 'enemy combatent' trials are nothing but a sham: Salim Haman has been sentenced to 5 1/2 years, but will be kept longer anyway just because they feel like it.\" b'Georgian troops retreat from S. Osettain capital, presumably leaving several hundred people killed. [VIDEO]' b'Did the U.S. Prep Georgia for War with Russia?' b'Rice Gives Green Light for Israel to Attack Iran: Says U.S. has no veto over Israeli military ops' b'Announcing:Class Action Lawsuit on Behalf of American Public Against the FBI' b\"So---Russia and Georgia are at war and the NYT's top story is opening ceremonies of the Olympics?  What a fucking disgrace and yet further proof of the decline of journalism.\" b\"China tells Bush to stay out of other countries' affairs\" b'Did World War III start today?' b'Georgia Invades South Ossetia - if Russia gets involved, will NATO absorb Georgia and unleash a full scale war?' b'Al-Qaeda Faces Islamist Backlash' b'Condoleezza Rice: \"The US would not act to prevent an Israeli strike on Iran.\" Israeli Defense Minister Ehud Barak: \"Israel is prepared for uncompromising victory in the case of military hostilities.\"' b'This is a busy day:  The European Union has approved new sanctions against Iran in protest at its nuclear programme.' b\"Georgia will withdraw 1,000 soldiers from Iraq to help fight off Russian forces in Georgia's breakaway region of South Ossetia\" b'Why the Pentagon Thinks Attacking Iran is a Bad Idea - US News &amp; World Report' b'Caucasus in crisis: Georgia invades South Ossetia' b'Indian shoe manufactory  - And again in a series of \"you do not like your work?\"' b'Visitors Suffering from Mental Illnesses Banned from Olympics' b\"No Help for Mexico's Kidnapping Surge\"\n"
     ]
    }
   ],
   "source": [
    "trainheadlines = []\n",
    "from nltk.stem.porter import PorterStemmer\n",
    "from nltk.stem.wordnet import WordNetLemmatizer \n",
    "\n",
    "lem = WordNetLemmatizer()\n",
    "stem = PorterStemmer()\n",
    "\n",
    "for row in range(0,len(train.index)):\n",
    "    trainheadlines.append(' '.join(str(x) for x in train.iloc[row,2:27]))\n",
    "#     trainheadlines[row] = CountVectorizer().build_tokenizer()(trainheadlines[row])\n",
    "#     trainheadlines[row] = lem.lemmatize(trainheadlines[row][1])\n",
    "\n",
    "print(trainheadlines[0])"
   ]
  },
  {
   "cell_type": "code",
   "execution_count": 20,
   "metadata": {},
   "outputs": [
    {
     "name": "stdout",
     "output_type": "stream",
     "text": [
      "['b', \"''\", 'Georgia', \"'downs\", 'two', 'Russian', 'warplanes', \"'\", 'countries', 'move', 'brink', 'war', \"''\", \"b'BREAKING\", ':', 'Musharraf', 'impeached', '.', \"'\", \"b'Russia\", 'Today', ':', 'Columns', 'troops', 'roll', 'South', 'Ossetia', ';', 'footage', 'fighting', '(', 'YouTube', ')', \"'\", \"b'Russian\", 'tanks', 'moving', 'towards', 'capital', 'South', 'Ossetia', ',', 'reportedly', 'completely', 'destroyed', 'Georgian', 'artillery', 'fire', \"'\", 'b', \"''\", 'Afghan', 'children', 'raped', \"'impunity\", ',', \"'\", 'U.N.', 'official', 'says', '-', 'sick', ',', 'three', 'year', 'old', 'raped', 'nothing', \"''\", \"b'150\", 'Russian', 'tanks', 'entered', 'South', 'Ossetia', 'whilst', 'Georgia', 'shoots', 'two', 'Russian', 'jets', '.', \"'\", 'b', \"''\", 'Breaking', ':', 'Georgia', 'invades', 'South', 'Ossetia', ',', 'Russia', 'warned', 'would', 'intervene', 'SO', \"'s\", 'side', \"''\", 'b', \"''\", 'The', \"'enemy\", 'combatent', \"'\", 'trials', 'nothing', 'sham', ':', 'Salim', 'Haman', 'sentenced', '5', '1/2', 'years', ',', 'kept', 'longer', 'anyway', 'feel', 'like', '.', \"''\", \"b'Georgian\", 'troops', 'retreat', 'S.', 'Osettain', 'capital', ',', 'presumably', 'leaving', 'several', 'hundred', 'people', 'killed', '.', '[', 'VIDEO', ']', \"'\", \"b'Did\", 'U.S.', 'Prep', 'Georgia', 'War', 'Russia', '?', \"'\", \"b'Rice\", 'Gives', 'Green', 'Light', 'Israel', 'Attack', 'Iran', ':', 'Says', 'U.S.', 'veto', 'Israeli', 'military', 'ops', \"'\", \"b'Announcing\", ':', 'Class', 'Action', 'Lawsuit', 'Behalf', 'American', 'Public', 'Against', 'FBI', \"'\", 'b', \"''\", 'So', '--', '-Russia', 'Georgia', 'war', 'NYT', \"'s\", 'top', 'story', 'opening', 'ceremonies', 'Olympics', '?', 'What', 'fucking', 'disgrace', 'yet', 'proof', 'decline', 'journalism', '.', \"''\", 'b', \"''\", 'China', 'tells', 'Bush', 'stay', 'countries', \"'\", 'affairs', \"''\", \"b'Did\", 'World', 'War', 'III', 'start', 'today', '?', \"'\", \"b'Georgia\", 'Invades', 'South', 'Ossetia', '-', 'Russia', 'gets', 'involved', ',', 'NATO', 'absorb', 'Georgia', 'unleash', 'full', 'scale', 'war', '?', \"'\", \"b'Al-Qaeda\", 'Faces', 'Islamist', 'Backlash', \"'\", \"b'Condoleezza\", 'Rice', ':', '``', 'The', 'US', 'would', 'act', 'prevent', 'Israeli', 'strike', 'Iran', '.', \"''\", 'Israeli', 'Defense', 'Minister', 'Ehud', 'Barak', ':', '``', 'Israel', 'prepared', 'uncompromising', 'victory', 'case', 'military', 'hostilities', '.', \"''\", \"'\", \"b'This\", 'busy', 'day', ':', 'The', 'European', 'Union', 'approved', 'new', 'sanctions', 'Iran', 'protest', 'nuclear', 'programme', '.', \"'\", 'b', \"''\", 'Georgia', 'withdraw', '1,000', 'soldiers', 'Iraq', 'help', 'fight', 'Russian', 'forces', 'Georgia', \"'s\", 'breakaway', 'region', 'South', 'Ossetia', \"''\", \"b'Why\", 'Pentagon', 'Thinks', 'Attacking', 'Iran', 'Bad', 'Idea', '-', 'US', 'News', '&', 'amp', ';', 'World', 'Report', \"'\", \"b'Caucasus\", 'crisis', ':', 'Georgia', 'invades', 'South', 'Ossetia', \"'\", \"b'Indian\", 'shoe', 'manufactory', '-', 'And', 'series', '``', 'like', 'work', '?', \"''\", \"'\", \"b'Visitors\", 'Suffering', 'Mental', 'Illnesses', 'Banned', 'Olympics', \"'\", 'b', \"''\", 'No', 'Help', 'Mexico', \"'s\", 'Kidnapping', 'Surge', \"''\"]\n"
     ]
    }
   ],
   "source": [
    "from nltk.corpus import stopwords\n",
    "from nltk.tokenize import word_tokenize\n",
    "trainheadlines = []\n",
    "stop_words = set(stopwords.words('english'))\n",
    "\n",
    "for row in range(0,len(train.index)):\n",
    "    trainheadlines.append(' '.join(str(x) for x in train.iloc[row,2:27]))\n",
    "    word_tokens = word_tokenize(trainheadlines[row])\n",
    "    filtered_sentence = [w for w in word_tokens if not w in stop_words]\n",
    "    filtered_sentence = []\n",
    "    for w in word_tokens:\n",
    "        if w not in stop_words:\n",
    "            filtered_sentence.append(w)\n",
    "    trainheadlines[row] = filtered_sentence\n",
    " \n",
    "print(trainheadlines[0])"
   ]
  },
  {
   "cell_type": "code",
   "execution_count": 52,
   "metadata": {},
   "outputs": [
    {
     "data": {
      "text/plain": [
       "'b\"georgia \\'downs two russian warplanes\\' as countries move to brink of war\" b\\'breaking: musharraf to be impeached.\\' b\\'russia today: columns of troops roll into south ossetia; footage from fighting (youtube)\\' b\\'russian tanks are moving towards the capital of south ossetia, which has reportedly been completely destroyed by georgian artillery fire\\' b\"afghan children raped with \\'impunity,\\' u.n. official says - this is sick, a three year old was raped and they do nothing\" b\\'150 russian tanks have entered south ossetia whilst georgia shoots down two russian jets.\\' b\"breaking: georgia invades south ossetia, russia warned it would intervene on so\\'s side\" b\"the \\'enemy combatent\\' trials are nothing but a sham: salim haman has been sentenced to 5 1/2 years, but will be kept longer anyway just because they feel like it.\" b\\'georgian troops retreat from s. osettain capital, presumably leaving several hundred people killed. [video]\\' b\\'did the u.s. prep georgia for war with russia?\\' b\\'rice gives green light for israel to attack iran: says u.s. has no veto over israeli military ops\\' b\\'announcing:class action lawsuit on behalf of american public against the fbi\\' b\"so---russia and georgia are at war and the nyt\\'s top story is opening ceremonies of the olympics?  what a fucking disgrace and yet further proof of the decline of journalism.\" b\"china tells bush to stay out of other countries\\' affairs\" b\\'did world war iii start today?\\' b\\'georgia invades south ossetia - if russia gets involved, will nato absorb georgia and unleash a full scale war?\\' b\\'al-qaeda faces islamist backlash\\' b\\'condoleezza rice: \"the us would not act to prevent an israeli strike on iran.\" israeli defense minister ehud barak: \"israel is prepared for uncompromising victory in the case of military hostilities.\"\\' b\\'this is a busy day:  the european union has approved new sanctions against iran in protest at its nuclear programme.\\' b\"georgia will withdraw 1,000 soldiers from iraq to help fight off russian forces in georgia\\'s breakaway region of south ossetia\" b\\'why the pentagon thinks attacking iran is a bad idea - us news &amp; world report\\' b\\'caucasus in crisis: georgia invades south ossetia\\' b\\'indian shoe manufactory  - and again in a series of \"you do not like your work?\"\\' b\\'visitors suffering from mental illnesses banned from olympics\\' b\"no help for mexico\\'s kidnapping surge\"'"
      ]
     },
     "execution_count": 52,
     "metadata": {},
     "output_type": "execute_result"
    }
   ],
   "source": [
    "from nltk.stem.wordnet import WordNetLemmatizer \n",
    "import nltk\n",
    "# print(trainheadlines[0]+\"\\n\\n\")\n",
    "lem = WordNetLemmatizer()\n",
    "from nltk.stem.porter import PorterStemmer \n",
    "stem = PorterStemmer()\n",
    "stem.stem(trainheadlines[0])"
   ]
  },
  {
   "cell_type": "code",
   "execution_count": 21,
   "metadata": {},
   "outputs": [
    {
     "ename": "AttributeError",
     "evalue": "'list' object has no attribute 'lower'",
     "output_type": "error",
     "traceback": [
      "\u001b[1;31m---------------------------------------------------------------------------\u001b[0m",
      "\u001b[1;31mAttributeError\u001b[0m                            Traceback (most recent call last)",
      "\u001b[1;32m<ipython-input-21-7737543b32b1>\u001b[0m in \u001b[0;36m<module>\u001b[1;34m()\u001b[0m\n\u001b[0;32m      1\u001b[0m \u001b[0mnlp_model\u001b[0m \u001b[1;33m=\u001b[0m \u001b[0mCountVectorizer\u001b[0m\u001b[1;33m(\u001b[0m\u001b[1;33m)\u001b[0m\u001b[1;33m\u001b[0m\u001b[0m\n\u001b[1;32m----> 2\u001b[1;33m \u001b[0mnlptrain\u001b[0m \u001b[1;33m=\u001b[0m \u001b[0mnlp_model\u001b[0m\u001b[1;33m.\u001b[0m\u001b[0mfit_transform\u001b[0m\u001b[1;33m(\u001b[0m\u001b[0mtrainheadlines\u001b[0m\u001b[1;33m)\u001b[0m\u001b[1;33m\u001b[0m\u001b[0m\n\u001b[0m",
      "\u001b[1;32mf:\\fy_project\\lib\\site-packages\\sklearn\\feature_extraction\\text.pyc\u001b[0m in \u001b[0;36mfit_transform\u001b[1;34m(self, raw_documents, y)\u001b[0m\n\u001b[0;32m    867\u001b[0m \u001b[1;33m\u001b[0m\u001b[0m\n\u001b[0;32m    868\u001b[0m         vocabulary, X = self._count_vocab(raw_documents,\n\u001b[1;32m--> 869\u001b[1;33m                                           self.fixed_vocabulary_)\n\u001b[0m\u001b[0;32m    870\u001b[0m \u001b[1;33m\u001b[0m\u001b[0m\n\u001b[0;32m    871\u001b[0m         \u001b[1;32mif\u001b[0m \u001b[0mself\u001b[0m\u001b[1;33m.\u001b[0m\u001b[0mbinary\u001b[0m\u001b[1;33m:\u001b[0m\u001b[1;33m\u001b[0m\u001b[0m\n",
      "\u001b[1;32mf:\\fy_project\\lib\\site-packages\\sklearn\\feature_extraction\\text.pyc\u001b[0m in \u001b[0;36m_count_vocab\u001b[1;34m(self, raw_documents, fixed_vocab)\u001b[0m\n\u001b[0;32m    790\u001b[0m         \u001b[1;32mfor\u001b[0m \u001b[0mdoc\u001b[0m \u001b[1;32min\u001b[0m \u001b[0mraw_documents\u001b[0m\u001b[1;33m:\u001b[0m\u001b[1;33m\u001b[0m\u001b[0m\n\u001b[0;32m    791\u001b[0m             \u001b[0mfeature_counter\u001b[0m \u001b[1;33m=\u001b[0m \u001b[1;33m{\u001b[0m\u001b[1;33m}\u001b[0m\u001b[1;33m\u001b[0m\u001b[0m\n\u001b[1;32m--> 792\u001b[1;33m             \u001b[1;32mfor\u001b[0m \u001b[0mfeature\u001b[0m \u001b[1;32min\u001b[0m \u001b[0manalyze\u001b[0m\u001b[1;33m(\u001b[0m\u001b[0mdoc\u001b[0m\u001b[1;33m)\u001b[0m\u001b[1;33m:\u001b[0m\u001b[1;33m\u001b[0m\u001b[0m\n\u001b[0m\u001b[0;32m    793\u001b[0m                 \u001b[1;32mtry\u001b[0m\u001b[1;33m:\u001b[0m\u001b[1;33m\u001b[0m\u001b[0m\n\u001b[0;32m    794\u001b[0m                     \u001b[0mfeature_idx\u001b[0m \u001b[1;33m=\u001b[0m \u001b[0mvocabulary\u001b[0m\u001b[1;33m[\u001b[0m\u001b[0mfeature\u001b[0m\u001b[1;33m]\u001b[0m\u001b[1;33m\u001b[0m\u001b[0m\n",
      "\u001b[1;32mf:\\fy_project\\lib\\site-packages\\sklearn\\feature_extraction\\text.pyc\u001b[0m in \u001b[0;36m<lambda>\u001b[1;34m(doc)\u001b[0m\n\u001b[0;32m    264\u001b[0m \u001b[1;33m\u001b[0m\u001b[0m\n\u001b[0;32m    265\u001b[0m             return lambda doc: self._word_ngrams(\n\u001b[1;32m--> 266\u001b[1;33m                 tokenize(preprocess(self.decode(doc))), stop_words)\n\u001b[0m\u001b[0;32m    267\u001b[0m \u001b[1;33m\u001b[0m\u001b[0m\n\u001b[0;32m    268\u001b[0m         \u001b[1;32melse\u001b[0m\u001b[1;33m:\u001b[0m\u001b[1;33m\u001b[0m\u001b[0m\n",
      "\u001b[1;32mf:\\fy_project\\lib\\site-packages\\sklearn\\feature_extraction\\text.pyc\u001b[0m in \u001b[0;36m<lambda>\u001b[1;34m(x)\u001b[0m\n\u001b[0;32m    230\u001b[0m \u001b[1;33m\u001b[0m\u001b[0m\n\u001b[0;32m    231\u001b[0m         \u001b[1;32mif\u001b[0m \u001b[0mself\u001b[0m\u001b[1;33m.\u001b[0m\u001b[0mlowercase\u001b[0m\u001b[1;33m:\u001b[0m\u001b[1;33m\u001b[0m\u001b[0m\n\u001b[1;32m--> 232\u001b[1;33m             \u001b[1;32mreturn\u001b[0m \u001b[1;32mlambda\u001b[0m \u001b[0mx\u001b[0m\u001b[1;33m:\u001b[0m \u001b[0mstrip_accents\u001b[0m\u001b[1;33m(\u001b[0m\u001b[0mx\u001b[0m\u001b[1;33m.\u001b[0m\u001b[0mlower\u001b[0m\u001b[1;33m(\u001b[0m\u001b[1;33m)\u001b[0m\u001b[1;33m)\u001b[0m\u001b[1;33m\u001b[0m\u001b[0m\n\u001b[0m\u001b[0;32m    233\u001b[0m         \u001b[1;32melse\u001b[0m\u001b[1;33m:\u001b[0m\u001b[1;33m\u001b[0m\u001b[0m\n\u001b[0;32m    234\u001b[0m             \u001b[1;32mreturn\u001b[0m \u001b[0mstrip_accents\u001b[0m\u001b[1;33m\u001b[0m\u001b[0m\n",
      "\u001b[1;31mAttributeError\u001b[0m: 'list' object has no attribute 'lower'"
     ]
    }
   ],
   "source": [
    "nlp_model = CountVectorizer()\n",
    "nlptrain = nlp_model.fit_transform(trainheadlines)"
   ]
  },
  {
   "cell_type": "code",
   "execution_count": 72,
   "metadata": {},
   "outputs": [],
   "source": [
    "model = LogisticRegression()\n",
    "model = model.fit(nlptrain, train[\"Label\"])"
   ]
  },
  {
   "cell_type": "code",
   "execution_count": 73,
   "metadata": {},
   "outputs": [
    {
     "name": "stdout",
     "output_type": "stream",
     "text": [
      "[0 1 0 1 1 1 1 1 1 1 1 1 1 1 1 1 0 1 1 1 1 0 0 1 1 1 1 0 1 1 1 1 0 1 0 0 1\n",
      " 1 1 1 0 0 1 1 1 0 0 1 1 1 1 1 1 0 1 1 0 0 1 0 0 0 1 1 1 1 0 1 0 1 1 0 1 1\n",
      " 0 1 1 1 1 1 1 0 0 0 0 1 0 1 0 1 1 1 1 1 1 1 0 1 1 1 1 0 1 0 1 1 1 1 1 1 1\n",
      " 1 0 1 0 1 1 1 1 1 1 1 0 1 1 0 1 0 1 0 1 1 1 1 1 1 1 1 0 1 0 1 1 0 0 1 1 0\n",
      " 1 0 1 1 1 1 0 1 1 0 1 1 1 1 1 1 1 0 0 1 0 1 1 1 1 1 0 1 0 1 1 1 1 0 0 1 1\n",
      " 1 1 1 1 1 1 0 1 1 1 1 1 1 1 1 1 1 1 1 1 1 0 0 0 0 1 1 1 1 0 0 1 1 0 1 1 1\n",
      " 1 1 1 1 0 1 0 1 1 1 1 1 1 1 0 1 1 1 1 1 0 1 1 1 1 1 1 0 1 0 1 0 1 1 1 1 1\n",
      " 1 0 0 1 0 0 1 0 0 1 1 1 1 1 1 1 1 0 0 1 1 0 1 1 1 0 0 0 0 0 0 0 1 1 1 1 1\n",
      " 1 1 1 0 0 0 1 1 1 1 1 1 1 0 0 1 1 0 1 1 1 0 1 1 1 1 1 1 1 1 1 1 1 1 1 1 0\n",
      " 1 0 1 0 1 1 1 1 0 1 1 1 0 1 1 1 0 1 0 0 1 1 1 0 1 1 1 0 0 1 0 0 0 1 0 0 0\n",
      " 1 1 1 1 1 1 1 0]\n"
     ]
    }
   ],
   "source": [
    "testheadlines = []\n",
    "for row in range(0,len(test.index)):\n",
    "    testheadlines.append(' '.join(str(x) for x in test.iloc[row,2:27]))\n",
    "    testheadlines[row] = lem.lemmatize(testheadlines[row])\n",
    "    testheadlines[row] = stem.stem(testheadlines[row])\n",
    "test_model = nlp_model.transform(testheadlines)\n",
    "predictions = model.predict(test_model)\n",
    "print(predictions)"
   ]
  },
  {
   "cell_type": "code",
   "execution_count": 74,
   "metadata": {},
   "outputs": [
    {
     "data": {
      "text/html": [
       "<div>\n",
       "<style>\n",
       "    .dataframe thead tr:only-child th {\n",
       "        text-align: right;\n",
       "    }\n",
       "\n",
       "    .dataframe thead th {\n",
       "        text-align: left;\n",
       "    }\n",
       "\n",
       "    .dataframe tbody tr th {\n",
       "        vertical-align: top;\n",
       "    }\n",
       "</style>\n",
       "<table border=\"1\" class=\"dataframe\">\n",
       "  <thead>\n",
       "    <tr style=\"text-align: right;\">\n",
       "      <th>Predicted</th>\n",
       "      <th>0</th>\n",
       "      <th>1</th>\n",
       "    </tr>\n",
       "    <tr>\n",
       "      <th>Actual</th>\n",
       "      <th></th>\n",
       "      <th></th>\n",
       "    </tr>\n",
       "  </thead>\n",
       "  <tbody>\n",
       "    <tr>\n",
       "      <th>0</th>\n",
       "      <td>64</td>\n",
       "      <td>122</td>\n",
       "    </tr>\n",
       "    <tr>\n",
       "      <th>1</th>\n",
       "      <td>45</td>\n",
       "      <td>147</td>\n",
       "    </tr>\n",
       "  </tbody>\n",
       "</table>\n",
       "</div>"
      ],
      "text/plain": [
       "Predicted   0    1\n",
       "Actual            \n",
       "0          64  122\n",
       "1          45  147"
      ]
     },
     "execution_count": 74,
     "metadata": {},
     "output_type": "execute_result"
    }
   ],
   "source": [
    "pd.crosstab(test[\"Label\"], predictions, rownames=[\"Actual\"], colnames=[\"Predicted\"])"
   ]
  }
 ],
 "metadata": {
  "kernelspec": {
   "display_name": "Python 2",
   "language": "python",
   "name": "python2"
  },
  "language_info": {
   "codemirror_mode": {
    "name": "ipython",
    "version": 2
   },
   "file_extension": ".py",
   "mimetype": "text/x-python",
   "name": "python",
   "nbconvert_exporter": "python",
   "pygments_lexer": "ipython2",
   "version": "2.7.13"
  }
 },
 "nbformat": 4,
 "nbformat_minor": 2
}
