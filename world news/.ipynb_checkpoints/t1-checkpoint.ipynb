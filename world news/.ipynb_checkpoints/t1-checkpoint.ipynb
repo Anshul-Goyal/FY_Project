{
 "metadata": {
  "name": "",
  "signature": "sha256:7ce7029934e6f100b4b73c6a1a240f87db4c15f35737a1c23fa448498b7ccfe3"
 },
 "nbformat": 3,
 "nbformat_minor": 0,
 "worksheets": [
  {
   "cells": [
    {
     "cell_type": "code",
     "collapsed": false,
     "input": [
      "import pandas as pd\n",
      "import glob\n",
      "import os\n",
      "from sklearn.feature_extraction.text import CountVectorizer\n",
      "from sklearn.linear_model import LogisticRegression, LinearRegression\n"
     ],
     "language": "python",
     "metadata": {},
     "outputs": [],
     "prompt_number": 59
    },
    {
     "cell_type": "code",
     "collapsed": false,
     "input": [
      "#Reading the general world news headlines \n",
      "\n",
      "path =r'headlines_csv' # use your path\n",
      "allFiles = glob.glob(path + \"/*.csv\")\n",
      "frame = pd.DataFrame()\n",
      "list_ = []\n",
      "for file_ in allFiles:\n",
      "    df = pd.read_csv(file_,index_col=None, header=0)\n",
      "    list_.append(df)\n",
      "frame = pd.concat(list_)\n",
      "frame.sort(['date'], ascending=[True])\n",
      "frame.head()\n",
      "frame.to_csv(\"saved.csv\", sep=',')\n",
      "# data = pd.read_csv('headlines_csv/headline20071.csv')\n",
      "# data.head()"
     ],
     "language": "python",
     "metadata": {},
     "outputs": [],
     "prompt_number": 68
    },
    {
     "cell_type": "code",
     "collapsed": false,
     "input": [],
     "language": "python",
     "metadata": {},
     "outputs": [],
     "prompt_number": 67
    },
    {
     "cell_type": "code",
     "collapsed": false,
     "input": [],
     "language": "python",
     "metadata": {},
     "outputs": [],
     "prompt_number": 60
    },
    {
     "cell_type": "code",
     "collapsed": false,
     "input": [],
     "language": "python",
     "metadata": {},
     "outputs": [],
     "prompt_number": 60
    }
   ],
   "metadata": {}
  }
 ]
}