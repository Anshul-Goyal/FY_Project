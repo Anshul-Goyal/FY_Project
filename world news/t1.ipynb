{
 "metadata": {
  "name": "",
  "signature": "sha256:a02b3ab8978bdce2fc379811d514615092577b1041c9f6059def662437a46f21"
 },
 "nbformat": 3,
 "nbformat_minor": 0,
 "worksheets": [
  {
   "cells": [
    {
     "cell_type": "code",
     "collapsed": false,
     "input": [
      "import pandas as pd\n",
      "import glob\n",
      "import os\n",
      "from sklearn.feature_extraction.text import CountVectorizer\n",
      "from sklearn.linear_model import LogisticRegression, LinearRegression\n"
     ],
     "language": "python",
     "metadata": {},
     "outputs": [],
     "prompt_number": 2
    },
    {
     "cell_type": "code",
     "collapsed": false,
     "input": [
      "#Reading the general world news headlines \n",
      "\n",
      "path =r'headlines_csv' # use your path\n",
      "allFiles = glob.glob(path + \"/*.csv\")\n",
      "data = pd.DataFrame()\n",
      "list_ = []\n",
      "for file_ in allFiles:\n",
      "    df = pd.read_csv(file_,index_col=None, header=0)\n",
      "    list_.append(df)\n",
      "data = pd.concat(list_)\n",
      "data = data.sort_values(['Date','Direction', 'Headline'], ascending=[True,False,True])\n",
      "data.head()"
     ],
     "language": "python",
     "metadata": {},
     "outputs": [
      {
       "html": [
        "<div style=\"max-width:1500px;overflow:auto;\">\n",
        "<style>\n",
        "    .dataframe thead tr:only-child th {\n",
        "        text-align: right;\n",
        "    }\n",
        "\n",
        "    .dataframe thead th {\n",
        "        text-align: left;\n",
        "    }\n",
        "\n",
        "    .dataframe tbody tr th {\n",
        "        vertical-align: top;\n",
        "    }\n",
        "</style>\n",
        "<table border=\"1\" class=\"dataframe\">\n",
        "  <thead>\n",
        "    <tr style=\"text-align: right;\">\n",
        "      <th></th>\n",
        "      <th>Date</th>\n",
        "      <th>Direction</th>\n",
        "      <th>Headline</th>\n",
        "    </tr>\n",
        "  </thead>\n",
        "  <tbody>\n",
        "    <tr>\n",
        "      <th>3</th>\n",
        "      <td>2006-01-01</td>\n",
        "      <td>0</td>\n",
        "      <td>Antidepressants Seem to Cut Suicide Risk in T...</td>\n",
        "    </tr>\n",
        "    <tr>\n",
        "      <th>2</th>\n",
        "      <td>2006-01-01</td>\n",
        "      <td>0</td>\n",
        "      <td>At New York's Mayoral Inaugurations, Ask Not ...</td>\n",
        "    </tr>\n",
        "    <tr>\n",
        "      <th>1</th>\n",
        "      <td>2006-01-01</td>\n",
        "      <td>0</td>\n",
        "      <td>Bankruptcy? Tougher Than Counseling a Soprano</td>\n",
        "    </tr>\n",
        "    <tr>\n",
        "      <th>4</th>\n",
        "      <td>2006-01-01</td>\n",
        "      <td>0</td>\n",
        "      <td>Can You Revive an Extinct Animal?</td>\n",
        "    </tr>\n",
        "    <tr>\n",
        "      <th>11</th>\n",
        "      <td>2006-01-01</td>\n",
        "      <td>0</td>\n",
        "      <td>Districts Know the Value Of Real Estate Agents</td>\n",
        "    </tr>\n",
        "  </tbody>\n",
        "</table>\n",
        "</div>"
       ],
       "metadata": {},
       "output_type": "pyout",
       "prompt_number": 3,
       "text": [
        "          Date  Direction                                           Headline\n",
        "3   2006-01-01          0   Antidepressants Seem to Cut Suicide Risk in T...\n",
        "2   2006-01-01          0   At New York's Mayoral Inaugurations, Ask Not ...\n",
        "1   2006-01-01          0      Bankruptcy? Tougher Than Counseling a Soprano\n",
        "4   2006-01-01          0                  Can You Revive an Extinct Animal?\n",
        "11  2006-01-01          0     Districts Know the Value Of Real Estate Agents"
       ]
      }
     ],
     "prompt_number": 3
    },
    {
     "cell_type": "code",
     "collapsed": false,
     "input": [
      "# data['Date']\n",
      "train = data[data['Date'] < '2011-01-01']\n",
      "test = data[data['Date'] > '2010-12-31']\n",
      "test.head()"
     ],
     "language": "python",
     "metadata": {},
     "outputs": [
      {
       "html": [
        "<div style=\"max-width:1500px;overflow:auto;\">\n",
        "<style>\n",
        "    .dataframe thead tr:only-child th {\n",
        "        text-align: right;\n",
        "    }\n",
        "\n",
        "    .dataframe thead th {\n",
        "        text-align: left;\n",
        "    }\n",
        "\n",
        "    .dataframe tbody tr th {\n",
        "        vertical-align: top;\n",
        "    }\n",
        "</style>\n",
        "<table border=\"1\" class=\"dataframe\">\n",
        "  <thead>\n",
        "    <tr style=\"text-align: right;\">\n",
        "      <th></th>\n",
        "      <th>Date</th>\n",
        "      <th>Direction</th>\n",
        "      <th>Headline</th>\n",
        "    </tr>\n",
        "  </thead>\n",
        "  <tbody>\n",
        "    <tr>\n",
        "      <th>10</th>\n",
        "      <td>2011-01-01</td>\n",
        "      <td>0</td>\n",
        "      <td>4th-Quarter Rally Lifts Hedge Fund To Robust ...</td>\n",
        "    </tr>\n",
        "    <tr>\n",
        "      <th>8</th>\n",
        "      <td>2011-01-01</td>\n",
        "      <td>0</td>\n",
        "      <td>Career Shift Often Means Drop in Living Stand...</td>\n",
        "    </tr>\n",
        "    <tr>\n",
        "      <th>9</th>\n",
        "      <td>2011-01-01</td>\n",
        "      <td>0</td>\n",
        "      <td>Global Stock Markets Fight to Return From Rec...</td>\n",
        "    </tr>\n",
        "    <tr>\n",
        "      <th>1</th>\n",
        "      <td>2011-01-01</td>\n",
        "      <td>0</td>\n",
        "      <td>Governor Cuomo's Inaugural Address</td>\n",
        "    </tr>\n",
        "    <tr>\n",
        "      <th>0</th>\n",
        "      <td>2011-01-01</td>\n",
        "      <td>0</td>\n",
        "      <td>Inauguration Day in Albany</td>\n",
        "    </tr>\n",
        "  </tbody>\n",
        "</table>\n",
        "</div>"
       ],
       "metadata": {},
       "output_type": "pyout",
       "prompt_number": 4,
       "text": [
        "          Date  Direction                                           Headline\n",
        "10  2011-01-01          0   4th-Quarter Rally Lifts Hedge Fund To Robust ...\n",
        "8   2011-01-01          0   Career Shift Often Means Drop in Living Stand...\n",
        "9   2011-01-01          0   Global Stock Markets Fight to Return From Rec...\n",
        "1   2011-01-01          0                 Governor Cuomo's Inaugural Address\n",
        "0   2011-01-01          0                         Inauguration Day in Albany"
       ]
      }
     ],
     "prompt_number": 4
    },
    {
     "cell_type": "code",
     "collapsed": false,
     "input": [
      "example = train.iloc[2,2]\n",
      "example2 = example.lower()"
     ],
     "language": "python",
     "metadata": {},
     "outputs": [],
     "prompt_number": 5
    },
    {
     "cell_type": "code",
     "collapsed": false,
     "input": [
      "example3 = CountVectorizer().build_tokenizer()(example2)\n",
      "print(example3)"
     ],
     "language": "python",
     "metadata": {},
     "outputs": [
      {
       "output_type": "stream",
       "stream": "stdout",
       "text": [
        "['bankruptcy', 'tougher', 'than', 'counseling', 'soprano']\n"
       ]
      }
     ],
     "prompt_number": 6
    },
    {
     "cell_type": "code",
     "collapsed": false,
     "input": [
      "pd.DataFrame([[x,example3.count(x)] for x in set(example3)], columns = ['Word', 'Count'])"
     ],
     "language": "python",
     "metadata": {},
     "outputs": [
      {
       "html": [
        "<div style=\"max-width:1500px;overflow:auto;\">\n",
        "<style>\n",
        "    .dataframe thead tr:only-child th {\n",
        "        text-align: right;\n",
        "    }\n",
        "\n",
        "    .dataframe thead th {\n",
        "        text-align: left;\n",
        "    }\n",
        "\n",
        "    .dataframe tbody tr th {\n",
        "        vertical-align: top;\n",
        "    }\n",
        "</style>\n",
        "<table border=\"1\" class=\"dataframe\">\n",
        "  <thead>\n",
        "    <tr style=\"text-align: right;\">\n",
        "      <th></th>\n",
        "      <th>Word</th>\n",
        "      <th>Count</th>\n",
        "    </tr>\n",
        "  </thead>\n",
        "  <tbody>\n",
        "    <tr>\n",
        "      <th>0</th>\n",
        "      <td>counseling</td>\n",
        "      <td>1</td>\n",
        "    </tr>\n",
        "    <tr>\n",
        "      <th>1</th>\n",
        "      <td>soprano</td>\n",
        "      <td>1</td>\n",
        "    </tr>\n",
        "    <tr>\n",
        "      <th>2</th>\n",
        "      <td>tougher</td>\n",
        "      <td>1</td>\n",
        "    </tr>\n",
        "    <tr>\n",
        "      <th>3</th>\n",
        "      <td>than</td>\n",
        "      <td>1</td>\n",
        "    </tr>\n",
        "    <tr>\n",
        "      <th>4</th>\n",
        "      <td>bankruptcy</td>\n",
        "      <td>1</td>\n",
        "    </tr>\n",
        "  </tbody>\n",
        "</table>\n",
        "</div>"
       ],
       "metadata": {},
       "output_type": "pyout",
       "prompt_number": 7,
       "text": [
        "         Word  Count\n",
        "0  counseling      1\n",
        "1     soprano      1\n",
        "2     tougher      1\n",
        "3        than      1\n",
        "4  bankruptcy      1"
       ]
      }
     ],
     "prompt_number": 7
    },
    {
     "cell_type": "code",
     "collapsed": false,
     "input": [
      "trainheadlines = []\n",
      "for row in range(0,len(train.index)):\n",
      "    trainheadlines.append(' '.join(str(x) for x in train))\n",
      "    \n",
      "trainheadlines[0]"
     ],
     "language": "python",
     "metadata": {},
     "outputs": [
      {
       "metadata": {},
       "output_type": "pyout",
       "prompt_number": 8,
       "text": [
        "'Date Direction Headline'"
       ]
      }
     ],
     "prompt_number": 8
    },
    {
     "cell_type": "code",
     "collapsed": false,
     "input": [],
     "language": "python",
     "metadata": {},
     "outputs": [],
     "prompt_number": 8
    },
    {
     "cell_type": "code",
     "collapsed": false,
     "input": [],
     "language": "python",
     "metadata": {},
     "outputs": [],
     "prompt_number": 8
    }
   ],
   "metadata": {}
  }
 ]
}